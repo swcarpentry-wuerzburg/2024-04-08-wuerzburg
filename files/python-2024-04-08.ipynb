{
 "cells": [
  {
   "cell_type": "code",
   "execution_count": 2,
   "id": "c5ddcbb1-8935-42c6-a162-e0ea5a8f843a",
   "metadata": {},
   "outputs": [
    {
     "data": {
      "text/plain": [
       "5"
      ]
     },
     "execution_count": 2,
     "metadata": {},
     "output_type": "execute_result"
    }
   ],
   "source": [
    "2 + 3"
   ]
  },
  {
   "cell_type": "code",
   "execution_count": 3,
   "id": "e49eac61-59c2-43ca-a8b6-d8b042ac17ea",
   "metadata": {},
   "outputs": [
    {
     "data": {
      "text/plain": [
       "14"
      ]
     },
     "execution_count": 3,
     "metadata": {},
     "output_type": "execute_result"
    }
   ],
   "source": [
    "2 + 3*4"
   ]
  },
  {
   "cell_type": "code",
   "execution_count": 4,
   "id": "54477aa6-0913-4b53-bf10-ee279d486e29",
   "metadata": {},
   "outputs": [
    {
     "data": {
      "text/plain": [
       "7.0"
      ]
     },
     "execution_count": 4,
     "metadata": {},
     "output_type": "execute_result"
    }
   ],
   "source": [
    "1.4 *5"
   ]
  },
  {
   "cell_type": "code",
   "execution_count": 5,
   "id": "43f700e2-617e-4351-be13-970f8591c7c1",
   "metadata": {},
   "outputs": [
    {
     "data": {
      "text/plain": [
       "'this is a string'"
      ]
     },
     "execution_count": 5,
     "metadata": {},
     "output_type": "execute_result"
    }
   ],
   "source": [
    "'this is a string'"
   ]
  },
  {
   "cell_type": "code",
   "execution_count": 6,
   "id": "c7a2f06e-da9c-4577-bc83-8f5d019057c7",
   "metadata": {},
   "outputs": [],
   "source": [
    "some_inter = 2 + 3"
   ]
  },
  {
   "cell_type": "code",
   "execution_count": 7,
   "id": "2ab76f41-980d-4a2d-bfd3-6dbf602f81ff",
   "metadata": {},
   "outputs": [],
   "source": [
    "some_float = 1.3 + 3.5"
   ]
  },
  {
   "cell_type": "code",
   "execution_count": 8,
   "id": "30780ca8-5175-44af-b9e3-6ac05502afa0",
   "metadata": {},
   "outputs": [
    {
     "name": "stdout",
     "output_type": "stream",
     "text": [
      "5\n"
     ]
    }
   ],
   "source": [
    "print(some_inter)"
   ]
  },
  {
   "cell_type": "code",
   "execution_count": 9,
   "id": "e9d18fb6-a381-4fe0-9dd7-a6be8c676842",
   "metadata": {},
   "outputs": [
    {
     "name": "stdout",
     "output_type": "stream",
     "text": [
      "4.8\n"
     ]
    }
   ],
   "source": [
    "print(some_float)"
   ]
  },
  {
   "cell_type": "code",
   "execution_count": 11,
   "id": "9fa736a6-86dd-40bc-b8bf-1d82ca7ae422",
   "metadata": {},
   "outputs": [],
   "source": [
    "# This is a comment\n",
    "# Here we created a string variable\n",
    "some_string = \"this is a string\""
   ]
  },
  {
   "cell_type": "code",
   "execution_count": 12,
   "id": "6537dce3-9eaa-4ca0-ad4d-fe58fc0511aa",
   "metadata": {},
   "outputs": [],
   "source": [
    "some_string2 = \"this is 'a string'\""
   ]
  },
  {
   "cell_type": "code",
   "execution_count": 13,
   "id": "891d5f6c-2331-4860-b9cc-4a1f86ec8405",
   "metadata": {},
   "outputs": [
    {
     "data": {
      "text/plain": [
       "\"this is 'a string'\""
      ]
     },
     "execution_count": 13,
     "metadata": {},
     "output_type": "execute_result"
    }
   ],
   "source": [
    "\"this is 'a string'\""
   ]
  },
  {
   "cell_type": "code",
   "execution_count": 14,
   "id": "5f8fde9e-017f-4c32-808f-f9343d72abc5",
   "metadata": {},
   "outputs": [
    {
     "ename": "SyntaxError",
     "evalue": "invalid syntax (772094868.py, line 1)",
     "output_type": "error",
     "traceback": [
      "\u001b[0;36m  Cell \u001b[0;32mIn[14], line 1\u001b[0;36m\u001b[0m\n\u001b[0;31m    \"this is \"a string\"\"\u001b[0m\n\u001b[0m              ^\u001b[0m\n\u001b[0;31mSyntaxError\u001b[0m\u001b[0;31m:\u001b[0m invalid syntax\n"
     ]
    }
   ],
   "source": [
    "\"this is \"a string\"\""
   ]
  },
  {
   "cell_type": "code",
   "execution_count": 19,
   "id": "d1d8d976-7f8f-4c93-9eed-ca79833f47e8",
   "metadata": {},
   "outputs": [
    {
     "data": {
      "text/plain": [
       "'this is \\'a string\\' \"foo\"'"
      ]
     },
     "execution_count": 19,
     "metadata": {},
     "output_type": "execute_result"
    }
   ],
   "source": [
    "'this is \\'a string\\' \"foo\"'"
   ]
  },
  {
   "cell_type": "code",
   "execution_count": 20,
   "id": "ccb05511-9189-4100-a7f6-da9fe72a6ff4",
   "metadata": {},
   "outputs": [],
   "source": [
    "weigt_kg = 60.3"
   ]
  },
  {
   "cell_type": "code",
   "execution_count": 21,
   "id": "e6cd61b1-7215-4f55-a28c-e4b5ab77b938",
   "metadata": {},
   "outputs": [],
   "source": [
    "weigt_lb = weigt_kg*2.2"
   ]
  },
  {
   "cell_type": "code",
   "execution_count": 22,
   "id": "29c99247-fd58-4fef-b867-c3fc11a9e535",
   "metadata": {},
   "outputs": [
    {
     "name": "stdout",
     "output_type": "stream",
     "text": [
      "60.3\n"
     ]
    }
   ],
   "source": [
    "print(weigt_kg)"
   ]
  },
  {
   "cell_type": "code",
   "execution_count": 23,
   "id": "d3ce4b6a-35c3-499d-882c-5661b6af282c",
   "metadata": {},
   "outputs": [
    {
     "name": "stdout",
     "output_type": "stream",
     "text": [
      "132.66\n"
     ]
    }
   ],
   "source": [
    "print(weigt_lb)"
   ]
  },
  {
   "cell_type": "code",
   "execution_count": 24,
   "id": "fd3dec9d-d01a-4edf-87b1-8f44293cfd91",
   "metadata": {},
   "outputs": [],
   "source": [
    "weigt_kg = 102.3"
   ]
  },
  {
   "cell_type": "code",
   "execution_count": 25,
   "id": "5bb5e4f2-4d49-40f3-8089-8d1c8b9362c3",
   "metadata": {},
   "outputs": [
    {
     "name": "stdout",
     "output_type": "stream",
     "text": [
      "102.3\n"
     ]
    }
   ],
   "source": [
    "print(weigt_kg)"
   ]
  },
  {
   "cell_type": "code",
   "execution_count": 26,
   "id": "db5c8966-6574-4807-adf7-e7906c035713",
   "metadata": {},
   "outputs": [
    {
     "name": "stdout",
     "output_type": "stream",
     "text": [
      "132.66\n"
     ]
    }
   ],
   "source": [
    "print(weigt_lb)"
   ]
  },
  {
   "cell_type": "markdown",
   "id": "7ab8798f-229a-4b6f-8228-84940806dad2",
   "metadata": {},
   "source": [
    "# Using libraries"
   ]
  },
  {
   "cell_type": "code",
   "execution_count": 28,
   "id": "5755dcb4-090e-4de1-8224-6f8871772f05",
   "metadata": {},
   "outputs": [],
   "source": [
    "# Importing numerical library\n",
    "import numpy"
   ]
  },
  {
   "cell_type": "code",
   "execution_count": 30,
   "id": "8d7476e0-dd4e-4c42-a79e-58ddf66fda5e",
   "metadata": {},
   "outputs": [],
   "source": [
    "data = numpy.loadtxt(fname='python-novice-inflammation-data/data/inflammation-01.csv', \n",
    "              delimiter=',')"
   ]
  },
  {
   "cell_type": "code",
   "execution_count": 31,
   "id": "509393bf-7fb2-46fb-be25-e755c0334543",
   "metadata": {},
   "outputs": [
    {
     "data": {
      "text/plain": [
       "numpy.ndarray"
      ]
     },
     "execution_count": 31,
     "metadata": {},
     "output_type": "execute_result"
    }
   ],
   "source": [
    "type(data)"
   ]
  },
  {
   "cell_type": "code",
   "execution_count": 32,
   "id": "35cef287-9f5a-4fbf-9f58-77eba475fb49",
   "metadata": {},
   "outputs": [
    {
     "data": {
      "text/plain": [
       "(60, 40)"
      ]
     },
     "execution_count": 32,
     "metadata": {},
     "output_type": "execute_result"
    }
   ],
   "source": [
    "data.shape"
   ]
  },
  {
   "cell_type": "code",
   "execution_count": 33,
   "id": "a613c56a-e1cf-4cf2-be8e-2605d5b6a5c9",
   "metadata": {},
   "outputs": [
    {
     "data": {
      "text/plain": [
       "array([ 0.,  0.,  1.,  3.,  1.,  2.,  4.,  7.,  8.,  3.,  3.,  3., 10.,\n",
       "        5.,  7.,  4.,  7.,  7., 12., 18.,  6., 13., 11., 11.,  7.,  7.,\n",
       "        4.,  6.,  8.,  8.,  4.,  4.,  5.,  7.,  3.,  4.,  2.,  3.,  0.,\n",
       "        0.])"
      ]
     },
     "execution_count": 33,
     "metadata": {},
     "output_type": "execute_result"
    }
   ],
   "source": [
    "# access the fiste row is date\n",
    "data[0]"
   ]
  },
  {
   "cell_type": "code",
   "execution_count": 34,
   "id": "2d3726ae-4862-4523-a685-f3e5233a09cc",
   "metadata": {},
   "outputs": [
    {
     "data": {
      "text/plain": [
       "array([ 0.,  0.,  1.,  0.,  3.,  2.,  5.,  4.,  8.,  2.,  9.,  3.,  3.,\n",
       "       10., 12.,  9., 14., 11., 13.,  8.,  6., 18., 11.,  9., 13., 11.,\n",
       "        8.,  5.,  5.,  2.,  8.,  5.,  3.,  5.,  4.,  1.,  3.,  1.,  1.,\n",
       "        0.])"
      ]
     },
     "execution_count": 34,
     "metadata": {},
     "output_type": "execute_result"
    }
   ],
   "source": [
    "# last row\n",
    "data[59]"
   ]
  },
  {
   "cell_type": "code",
   "execution_count": 35,
   "id": "9b10a453-0fa9-46d0-8e33-8fde7cd8fde5",
   "metadata": {},
   "outputs": [
    {
     "data": {
      "text/plain": [
       "0.0"
      ]
     },
     "execution_count": 35,
     "metadata": {},
     "output_type": "execute_result"
    }
   ],
   "source": [
    "# Access first entry\n",
    "data[0, 0]"
   ]
  },
  {
   "cell_type": "code",
   "execution_count": 36,
   "id": "eb8298e0-5fdd-4545-9227-d50749050cf5",
   "metadata": {},
   "outputs": [
    {
     "data": {
      "text/plain": [
       "dtype('float64')"
      ]
     },
     "execution_count": 36,
     "metadata": {},
     "output_type": "execute_result"
    }
   ],
   "source": [
    "data.dtype"
   ]
  },
  {
   "cell_type": "code",
   "execution_count": 37,
   "id": "2a7ad811-687e-4c5d-ad56-a80e6cfb9c01",
   "metadata": {},
   "outputs": [
    {
     "data": {
      "text/plain": [
       "array([[ 0.,  0.,  1.,  3.,  1.,  2.,  4.,  7.,  8.,  3.,  3.,  3., 10.,\n",
       "         5.,  7.,  4.,  7.,  7., 12., 18.,  6., 13., 11., 11.,  7.,  7.,\n",
       "         4.,  6.,  8.,  8.,  4.,  4.,  5.,  7.,  3.,  4.,  2.,  3.,  0.,\n",
       "         0.],\n",
       "       [ 0.,  1.,  2.,  1.,  2.,  1.,  3.,  2.,  2.,  6., 10., 11.,  5.,\n",
       "         9.,  4.,  4.,  7., 16.,  8.,  6., 18.,  4., 12.,  5., 12.,  7.,\n",
       "        11.,  5., 11.,  3.,  3.,  5.,  4.,  4.,  5.,  5.,  1.,  1.,  0.,\n",
       "         1.]])"
      ]
     },
     "execution_count": 37,
     "metadata": {},
     "output_type": "execute_result"
    }
   ],
   "source": [
    "# Slice array with [first index:last_index_not included]\n",
    "data[0:2]"
   ]
  },
  {
   "cell_type": "code",
   "execution_count": 39,
   "id": "cdb770a8-a199-44ff-b228-ae0314c74d4c",
   "metadata": {},
   "outputs": [
    {
     "data": {
      "text/plain": [
       "array([[ 0.,  0.,  1.,  3.,  1.,  2.,  4.,  7.,  8.,  3.,  3.,  3., 10.,\n",
       "         5.,  7.,  4.,  7.,  7., 12., 18.,  6., 13., 11., 11.,  7.,  7.,\n",
       "         4.,  6.,  8.,  8.,  4.,  4.,  5.,  7.,  3.,  4.,  2.,  3.,  0.,\n",
       "         0.],\n",
       "       [ 0.,  1.,  2.,  1.,  2.,  1.,  3.,  2.,  2.,  6., 10., 11.,  5.,\n",
       "         9.,  4.,  4.,  7., 16.,  8.,  6., 18.,  4., 12.,  5., 12.,  7.,\n",
       "        11.,  5., 11.,  3.,  3.,  5.,  4.,  4.,  5.,  5.,  1.,  1.,  0.,\n",
       "         1.]])"
      ]
     },
     "execution_count": 39,
     "metadata": {},
     "output_type": "execute_result"
    }
   ],
   "source": [
    "# 0 in slicing can be omitted\n",
    "data[:2]"
   ]
  },
  {
   "cell_type": "code",
   "execution_count": 40,
   "id": "ca39c784-c4a9-4f44-b939-bbe6221ffe05",
   "metadata": {
    "collapsed": true,
    "jupyter": {
     "outputs_hidden": true
    }
   },
   "outputs": [
    {
     "data": {
      "text/plain": [
       "array([[ 0.,  1.,  1.,  3.,  3.,  2.,  6.,  2.,  5.,  9.,  5.,  7.,  4.,\n",
       "         5.,  4., 15.,  5., 11.,  9., 10., 19., 14., 12., 17.,  7., 12.,\n",
       "        11.,  7.,  4.,  2., 10.,  5.,  4.,  2.,  2.,  3.,  2.,  2.,  1.,\n",
       "         1.],\n",
       "       [ 0.,  0.,  2.,  0.,  4.,  2.,  2.,  1.,  6.,  7., 10.,  7.,  9.,\n",
       "        13.,  8.,  8., 15., 10., 10.,  7., 17.,  4.,  4.,  7.,  6., 15.,\n",
       "         6.,  4.,  9., 11.,  3.,  5.,  6.,  3.,  3.,  4.,  2.,  3.,  2.,\n",
       "         1.],\n",
       "       [ 0.,  1.,  1.,  3.,  3.,  1.,  3.,  5.,  2.,  4.,  4.,  7.,  6.,\n",
       "         5.,  3., 10.,  8., 10.,  6., 17.,  9., 14.,  9.,  7., 13.,  9.,\n",
       "        12.,  6.,  7.,  7.,  9.,  6.,  3.,  2.,  2.,  4.,  2.,  0.,  1.,\n",
       "         1.],\n",
       "       [ 0.,  0.,  1.,  2.,  2.,  4.,  2.,  1.,  6.,  4.,  7.,  6.,  6.,\n",
       "         9.,  9., 15.,  4., 16., 18., 12., 12.,  5., 18.,  9.,  5.,  3.,\n",
       "        10.,  3., 12.,  7.,  8.,  4.,  7.,  3.,  5.,  4.,  4.,  3.,  2.,\n",
       "         1.],\n",
       "       [ 0.,  0.,  2.,  2.,  4.,  2.,  2.,  5.,  5.,  8.,  6.,  5., 11.,\n",
       "         9.,  4., 13.,  5., 12., 10.,  6.,  9., 17., 15.,  8.,  9.,  3.,\n",
       "        13.,  7.,  8.,  2.,  8.,  8.,  4.,  2.,  3.,  5.,  4.,  1.,  1.,\n",
       "         1.],\n",
       "       [ 0.,  0.,  1.,  2.,  3.,  1.,  2.,  3.,  5.,  3.,  7.,  8.,  8.,\n",
       "         5., 10.,  9., 15., 11., 18., 19., 20.,  8.,  5., 13., 15., 10.,\n",
       "         6., 10.,  6.,  7.,  4.,  9.,  3.,  5.,  2.,  5.,  3.,  2.,  2.,\n",
       "         1.],\n",
       "       [ 0.,  0.,  0.,  3.,  1.,  5.,  6.,  5.,  5.,  8.,  2.,  4., 11.,\n",
       "        12., 10., 11.,  9., 10., 17., 11.,  6., 16., 12.,  6.,  8., 14.,\n",
       "         6., 13., 10., 11.,  4.,  6.,  4.,  7.,  6.,  3.,  2.,  1.,  0.,\n",
       "         0.],\n",
       "       [ 0.,  1.,  1.,  2.,  1.,  3.,  5.,  3.,  5.,  8.,  6.,  8., 12.,\n",
       "         5., 13.,  6., 13.,  8., 16.,  8., 18., 15., 16., 14., 12.,  7.,\n",
       "         3.,  8.,  9., 11.,  2.,  5.,  4.,  5.,  1.,  4.,  1.,  2.,  0.,\n",
       "         0.]])"
      ]
     },
     "execution_count": 40,
     "metadata": {},
     "output_type": "execute_result"
    }
   ],
   "source": [
    "# Patient number 2 until patient number 9 \n",
    "#         third patient          tenth patient\n",
    "data[2:10]"
   ]
  },
  {
   "cell_type": "code",
   "execution_count": 41,
   "id": "7fe90983-e639-45cd-9a11-5a9cd3e3ad15",
   "metadata": {},
   "outputs": [
    {
     "data": {
      "text/plain": [
       "array([[0., 0., 2., 0., 4., 2., 2., 1., 6., 7.],\n",
       "       [0., 1., 1., 3., 3., 1., 3., 5., 2., 4.]])"
      ]
     },
     "execution_count": 41,
     "metadata": {},
     "output_type": "execute_result"
    }
   ],
   "source": [
    "# First ten days of patient index 3 and 4\n",
    "data[3:5, :10]"
   ]
  },
  {
   "cell_type": "code",
   "execution_count": 46,
   "id": "bb379cb2-da3f-4cc9-b25f-e2dc771732b2",
   "metadata": {},
   "outputs": [],
   "source": [
    "# Access days 10 till 20 of patient 5 till 7\n",
    "# patient number 6, 7, 8\n",
    "# patient index 5, 6, 7\n",
    "# Day #10 .. #20\n",
    "# day index 9, 11, ..., 19\n",
    "data_subset = data[5:8, 9:20]"
   ]
  },
  {
   "cell_type": "code",
   "execution_count": 47,
   "id": "bd65fb21-61a3-4e50-a0eb-6f20430d8f5e",
   "metadata": {},
   "outputs": [
    {
     "data": {
      "text/plain": [
       "array([[ 7.,  6.,  6.,  9.,  9., 15.,  4., 16., 18., 12., 12.],\n",
       "       [ 6.,  5., 11.,  9.,  4., 13.,  5., 12., 10.,  6.,  9.],\n",
       "       [ 7.,  8.,  8.,  5., 10.,  9., 15., 11., 18., 19., 20.]])"
      ]
     },
     "execution_count": 47,
     "metadata": {},
     "output_type": "execute_result"
    }
   ],
   "source": [
    "data_subset"
   ]
  },
  {
   "cell_type": "code",
   "execution_count": 48,
   "id": "aec2c642-681c-46c1-b173-432d6e82a47b",
   "metadata": {},
   "outputs": [
    {
     "data": {
      "text/plain": [
       "6.14875"
      ]
     },
     "execution_count": 48,
     "metadata": {},
     "output_type": "execute_result"
    }
   ],
   "source": [
    "# Mean over all days and patien\n",
    "numpy.mean(data)"
   ]
  },
  {
   "cell_type": "code",
   "execution_count": 49,
   "id": "dcfe23d6-2d5e-4a91-8def-7ba3a8e0dc94",
   "metadata": {},
   "outputs": [
    {
     "data": {
      "text/plain": [
       "20.0"
      ]
     },
     "execution_count": 49,
     "metadata": {},
     "output_type": "execute_result"
    }
   ],
   "source": [
    "# Maximal value\n",
    "numpy.amax(data)"
   ]
  },
  {
   "cell_type": "code",
   "execution_count": 50,
   "id": "f25e1572-e429-4bca-9f9a-0680944edf88",
   "metadata": {},
   "outputs": [
    {
     "data": {
      "text/plain": [
       "0.0"
      ]
     },
     "execution_count": 50,
     "metadata": {},
     "output_type": "execute_result"
    }
   ],
   "source": [
    "# Minimal value\n",
    "numpy.amin(data)"
   ]
  },
  {
   "cell_type": "code",
   "execution_count": 51,
   "id": "ccef2db5-cbcb-450c-ae8a-eb66dae4ad0c",
   "metadata": {
    "collapsed": true,
    "jupyter": {
     "outputs_hidden": true
    }
   },
   "outputs": [
    {
     "data": {
      "text/plain": [
       "\u001b[0;31mSignature:\u001b[0m\n",
       "\u001b[0mnumpy\u001b[0m\u001b[0;34m.\u001b[0m\u001b[0mloadtxt\u001b[0m\u001b[0;34m(\u001b[0m\u001b[0;34m\u001b[0m\n",
       "\u001b[0;34m\u001b[0m    \u001b[0mfname\u001b[0m\u001b[0;34m,\u001b[0m\u001b[0;34m\u001b[0m\n",
       "\u001b[0;34m\u001b[0m    \u001b[0mdtype\u001b[0m\u001b[0;34m=\u001b[0m\u001b[0;34m<\u001b[0m\u001b[0;32mclass\u001b[0m \u001b[0;34m'float'\u001b[0m\u001b[0;34m>\u001b[0m\u001b[0;34m,\u001b[0m\u001b[0;34m\u001b[0m\n",
       "\u001b[0;34m\u001b[0m    \u001b[0mcomments\u001b[0m\u001b[0;34m=\u001b[0m\u001b[0;34m'#'\u001b[0m\u001b[0;34m,\u001b[0m\u001b[0;34m\u001b[0m\n",
       "\u001b[0;34m\u001b[0m    \u001b[0mdelimiter\u001b[0m\u001b[0;34m=\u001b[0m\u001b[0;32mNone\u001b[0m\u001b[0;34m,\u001b[0m\u001b[0;34m\u001b[0m\n",
       "\u001b[0;34m\u001b[0m    \u001b[0mconverters\u001b[0m\u001b[0;34m=\u001b[0m\u001b[0;32mNone\u001b[0m\u001b[0;34m,\u001b[0m\u001b[0;34m\u001b[0m\n",
       "\u001b[0;34m\u001b[0m    \u001b[0mskiprows\u001b[0m\u001b[0;34m=\u001b[0m\u001b[0;36m0\u001b[0m\u001b[0;34m,\u001b[0m\u001b[0;34m\u001b[0m\n",
       "\u001b[0;34m\u001b[0m    \u001b[0musecols\u001b[0m\u001b[0;34m=\u001b[0m\u001b[0;32mNone\u001b[0m\u001b[0;34m,\u001b[0m\u001b[0;34m\u001b[0m\n",
       "\u001b[0;34m\u001b[0m    \u001b[0munpack\u001b[0m\u001b[0;34m=\u001b[0m\u001b[0;32mFalse\u001b[0m\u001b[0;34m,\u001b[0m\u001b[0;34m\u001b[0m\n",
       "\u001b[0;34m\u001b[0m    \u001b[0mndmin\u001b[0m\u001b[0;34m=\u001b[0m\u001b[0;36m0\u001b[0m\u001b[0;34m,\u001b[0m\u001b[0;34m\u001b[0m\n",
       "\u001b[0;34m\u001b[0m    \u001b[0mencoding\u001b[0m\u001b[0;34m=\u001b[0m\u001b[0;34m'bytes'\u001b[0m\u001b[0;34m,\u001b[0m\u001b[0;34m\u001b[0m\n",
       "\u001b[0;34m\u001b[0m    \u001b[0mmax_rows\u001b[0m\u001b[0;34m=\u001b[0m\u001b[0;32mNone\u001b[0m\u001b[0;34m,\u001b[0m\u001b[0;34m\u001b[0m\n",
       "\u001b[0;34m\u001b[0m    \u001b[0;34m*\u001b[0m\u001b[0;34m,\u001b[0m\u001b[0;34m\u001b[0m\n",
       "\u001b[0;34m\u001b[0m    \u001b[0mquotechar\u001b[0m\u001b[0;34m=\u001b[0m\u001b[0;32mNone\u001b[0m\u001b[0;34m,\u001b[0m\u001b[0;34m\u001b[0m\n",
       "\u001b[0;34m\u001b[0m    \u001b[0mlike\u001b[0m\u001b[0;34m=\u001b[0m\u001b[0;32mNone\u001b[0m\u001b[0;34m,\u001b[0m\u001b[0;34m\u001b[0m\n",
       "\u001b[0;34m\u001b[0m\u001b[0;34m)\u001b[0m\u001b[0;34m\u001b[0m\u001b[0;34m\u001b[0m\u001b[0m\n",
       "\u001b[0;31mDocstring:\u001b[0m\n",
       "Load data from a text file.\n",
       "\n",
       "Parameters\n",
       "----------\n",
       "fname : file, str, pathlib.Path, list of str, generator\n",
       "    File, filename, list, or generator to read.  If the filename\n",
       "    extension is ``.gz`` or ``.bz2``, the file is first decompressed. Note\n",
       "    that generators must return bytes or strings. The strings\n",
       "    in a list or produced by a generator are treated as lines.\n",
       "dtype : data-type, optional\n",
       "    Data-type of the resulting array; default: float.  If this is a\n",
       "    structured data-type, the resulting array will be 1-dimensional, and\n",
       "    each row will be interpreted as an element of the array.  In this\n",
       "    case, the number of columns used must match the number of fields in\n",
       "    the data-type.\n",
       "comments : str or sequence of str or None, optional\n",
       "    The characters or list of characters used to indicate the start of a\n",
       "    comment. None implies no comments. For backwards compatibility, byte\n",
       "    strings will be decoded as 'latin1'. The default is '#'.\n",
       "delimiter : str, optional\n",
       "    The character used to separate the values. For backwards compatibility,\n",
       "    byte strings will be decoded as 'latin1'. The default is whitespace.\n",
       "\n",
       "    .. versionchanged:: 1.23.0\n",
       "       Only single character delimiters are supported. Newline characters\n",
       "       cannot be used as the delimiter.\n",
       "\n",
       "converters : dict or callable, optional\n",
       "    Converter functions to customize value parsing. If `converters` is\n",
       "    callable, the function is applied to all columns, else it must be a\n",
       "    dict that maps column number to a parser function.\n",
       "    See examples for further details.\n",
       "    Default: None.\n",
       "\n",
       "    .. versionchanged:: 1.23.0\n",
       "       The ability to pass a single callable to be applied to all columns\n",
       "       was added.\n",
       "\n",
       "skiprows : int, optional\n",
       "    Skip the first `skiprows` lines, including comments; default: 0.\n",
       "usecols : int or sequence, optional\n",
       "    Which columns to read, with 0 being the first. For example,\n",
       "    ``usecols = (1,4,5)`` will extract the 2nd, 5th and 6th columns.\n",
       "    The default, None, results in all columns being read.\n",
       "\n",
       "    .. versionchanged:: 1.11.0\n",
       "        When a single column has to be read it is possible to use\n",
       "        an integer instead of a tuple. E.g ``usecols = 3`` reads the\n",
       "        fourth column the same way as ``usecols = (3,)`` would.\n",
       "unpack : bool, optional\n",
       "    If True, the returned array is transposed, so that arguments may be\n",
       "    unpacked using ``x, y, z = loadtxt(...)``.  When used with a\n",
       "    structured data-type, arrays are returned for each field.\n",
       "    Default is False.\n",
       "ndmin : int, optional\n",
       "    The returned array will have at least `ndmin` dimensions.\n",
       "    Otherwise mono-dimensional axes will be squeezed.\n",
       "    Legal values: 0 (default), 1 or 2.\n",
       "\n",
       "    .. versionadded:: 1.6.0\n",
       "encoding : str, optional\n",
       "    Encoding used to decode the inputfile. Does not apply to input streams.\n",
       "    The special value 'bytes' enables backward compatibility workarounds\n",
       "    that ensures you receive byte arrays as results if possible and passes\n",
       "    'latin1' encoded strings to converters. Override this value to receive\n",
       "    unicode arrays and pass strings as input to converters.  If set to None\n",
       "    the system default is used. The default value is 'bytes'.\n",
       "\n",
       "    .. versionadded:: 1.14.0\n",
       "max_rows : int, optional\n",
       "    Read `max_rows` rows of content after `skiprows` lines. The default is\n",
       "    to read all the rows. Note that empty rows containing no data such as\n",
       "    empty lines and comment lines are not counted towards `max_rows`,\n",
       "    while such lines are counted in `skiprows`.\n",
       "\n",
       "    .. versionadded:: 1.16.0\n",
       "\n",
       "    .. versionchanged:: 1.23.0\n",
       "        Lines containing no data, including comment lines (e.g., lines\n",
       "        starting with '#' or as specified via `comments`) are not counted\n",
       "        towards `max_rows`.\n",
       "quotechar : unicode character or None, optional\n",
       "    The character used to denote the start and end of a quoted item.\n",
       "    Occurrences of the delimiter or comment characters are ignored within\n",
       "    a quoted item. The default value is ``quotechar=None``, which means\n",
       "    quoting support is disabled.\n",
       "\n",
       "    If two consecutive instances of `quotechar` are found within a quoted\n",
       "    field, the first is treated as an escape character. See examples.\n",
       "\n",
       "    .. versionadded:: 1.23.0\n",
       "like : array_like, optional\n",
       "    Reference object to allow the creation of arrays which are not\n",
       "    NumPy arrays. If an array-like passed in as ``like`` supports\n",
       "    the ``__array_function__`` protocol, the result will be defined\n",
       "    by it. In this case, it ensures the creation of an array object\n",
       "    compatible with that passed in via this argument.\n",
       "\n",
       "    .. versionadded:: 1.20.0\n",
       "\n",
       "Returns\n",
       "-------\n",
       "out : ndarray\n",
       "    Data read from the text file.\n",
       "\n",
       "See Also\n",
       "--------\n",
       "load, fromstring, fromregex\n",
       "genfromtxt : Load data with missing values handled as specified.\n",
       "scipy.io.loadmat : reads MATLAB data files\n",
       "\n",
       "Notes\n",
       "-----\n",
       "This function aims to be a fast reader for simply formatted files.  The\n",
       "`genfromtxt` function provides more sophisticated handling of, e.g.,\n",
       "lines with missing values.\n",
       "\n",
       "Each row in the input text file must have the same number of values to be\n",
       "able to read all values. If all rows do not have same number of values, a\n",
       "subset of up to n columns (where n is the least number of values present\n",
       "in all rows) can be read by specifying the columns via `usecols`.\n",
       "\n",
       ".. versionadded:: 1.10.0\n",
       "\n",
       "The strings produced by the Python float.hex method can be used as\n",
       "input for floats.\n",
       "\n",
       "Examples\n",
       "--------\n",
       ">>> from io import StringIO   # StringIO behaves like a file object\n",
       ">>> c = StringIO(\"0 1\\n2 3\")\n",
       ">>> np.loadtxt(c)\n",
       "array([[0., 1.],\n",
       "       [2., 3.]])\n",
       "\n",
       ">>> d = StringIO(\"M 21 72\\nF 35 58\")\n",
       ">>> np.loadtxt(d, dtype={'names': ('gender', 'age', 'weight'),\n",
       "...                      'formats': ('S1', 'i4', 'f4')})\n",
       "array([(b'M', 21, 72.), (b'F', 35, 58.)],\n",
       "      dtype=[('gender', 'S1'), ('age', '<i4'), ('weight', '<f4')])\n",
       "\n",
       ">>> c = StringIO(\"1,0,2\\n3,0,4\")\n",
       ">>> x, y = np.loadtxt(c, delimiter=',', usecols=(0, 2), unpack=True)\n",
       ">>> x\n",
       "array([1., 3.])\n",
       ">>> y\n",
       "array([2., 4.])\n",
       "\n",
       "The `converters` argument is used to specify functions to preprocess the\n",
       "text prior to parsing. `converters` can be a dictionary that maps\n",
       "preprocessing functions to each column:\n",
       "\n",
       ">>> s = StringIO(\"1.618, 2.296\\n3.141, 4.669\\n\")\n",
       ">>> conv = {\n",
       "...     0: lambda x: np.floor(float(x)),  # conversion fn for column 0\n",
       "...     1: lambda x: np.ceil(float(x)),  # conversion fn for column 1\n",
       "... }\n",
       ">>> np.loadtxt(s, delimiter=\",\", converters=conv)\n",
       "array([[1., 3.],\n",
       "       [3., 5.]])\n",
       "\n",
       "`converters` can be a callable instead of a dictionary, in which case it\n",
       "is applied to all columns:\n",
       "\n",
       ">>> s = StringIO(\"0xDE 0xAD\\n0xC0 0xDE\")\n",
       ">>> import functools\n",
       ">>> conv = functools.partial(int, base=16)\n",
       ">>> np.loadtxt(s, converters=conv)\n",
       "array([[222., 173.],\n",
       "       [192., 222.]])\n",
       "\n",
       "This example shows how `converters` can be used to convert a field\n",
       "with a trailing minus sign into a negative number.\n",
       "\n",
       ">>> s = StringIO('10.01 31.25-\\n19.22 64.31\\n17.57- 63.94')\n",
       ">>> def conv(fld):\n",
       "...     return -float(fld[:-1]) if fld.endswith(b'-') else float(fld)\n",
       "...\n",
       ">>> np.loadtxt(s, converters=conv)\n",
       "array([[ 10.01, -31.25],\n",
       "       [ 19.22,  64.31],\n",
       "       [-17.57,  63.94]])\n",
       "\n",
       "Using a callable as the converter can be particularly useful for handling\n",
       "values with different formatting, e.g. floats with underscores:\n",
       "\n",
       ">>> s = StringIO(\"1 2.7 100_000\")\n",
       ">>> np.loadtxt(s, converters=float)\n",
       "array([1.e+00, 2.7e+00, 1.e+05])\n",
       "\n",
       "This idea can be extended to automatically handle values specified in\n",
       "many different formats:\n",
       "\n",
       ">>> def conv(val):\n",
       "...     try:\n",
       "...         return float(val)\n",
       "...     except ValueError:\n",
       "...         return float.fromhex(val)\n",
       ">>> s = StringIO(\"1, 2.5, 3_000, 0b4, 0x1.4000000000000p+2\")\n",
       ">>> np.loadtxt(s, delimiter=\",\", converters=conv, encoding=None)\n",
       "array([1.0e+00, 2.5e+00, 3.0e+03, 1.8e+02, 5.0e+00])\n",
       "\n",
       "Note that with the default ``encoding=\"bytes\"``, the inputs to the\n",
       "converter function are latin-1 encoded byte strings. To deactivate the\n",
       "implicit encoding prior to conversion, use ``encoding=None``\n",
       "\n",
       ">>> s = StringIO('10.01 31.25-\\n19.22 64.31\\n17.57- 63.94')\n",
       ">>> conv = lambda x: -float(x[:-1]) if x.endswith('-') else float(x)\n",
       ">>> np.loadtxt(s, converters=conv, encoding=None)\n",
       "array([[ 10.01, -31.25],\n",
       "       [ 19.22,  64.31],\n",
       "       [-17.57,  63.94]])\n",
       "\n",
       "Support for quoted fields is enabled with the `quotechar` parameter.\n",
       "Comment and delimiter characters are ignored when they appear within a\n",
       "quoted item delineated by `quotechar`:\n",
       "\n",
       ">>> s = StringIO('\"alpha, #42\", 10.0\\n\"beta, #64\", 2.0\\n')\n",
       ">>> dtype = np.dtype([(\"label\", \"U12\"), (\"value\", float)])\n",
       ">>> np.loadtxt(s, dtype=dtype, delimiter=\",\", quotechar='\"')\n",
       "array([('alpha, #42', 10.), ('beta, #64',  2.)],\n",
       "      dtype=[('label', '<U12'), ('value', '<f8')])\n",
       "\n",
       "Quoted fields can be separated by multiple whitespace characters:\n",
       "\n",
       ">>> s = StringIO('\"alpha, #42\"       10.0\\n\"beta, #64\" 2.0\\n')\n",
       ">>> dtype = np.dtype([(\"label\", \"U12\"), (\"value\", float)])\n",
       ">>> np.loadtxt(s, dtype=dtype, delimiter=None, quotechar='\"')\n",
       "array([('alpha, #42', 10.), ('beta, #64',  2.)],\n",
       "      dtype=[('label', '<U12'), ('value', '<f8')])\n",
       "\n",
       "Two consecutive quote characters within a quoted field are treated as a\n",
       "single escaped character:\n",
       "\n",
       ">>> s = StringIO('\"Hello, my name is \"\"Monty\"\"!\"')\n",
       ">>> np.loadtxt(s, dtype=\"U\", delimiter=\",\", quotechar='\"')\n",
       "array('Hello, my name is \"Monty\"!', dtype='<U26')\n",
       "\n",
       "Read subset of columns when all rows do not contain equal number of values:\n",
       "\n",
       ">>> d = StringIO(\"1 2\\n2 4\\n3 9 12\\n4 16 20\")\n",
       ">>> np.loadtxt(d, usecols=(0, 1))\n",
       "array([[ 1.,  2.],\n",
       "       [ 2.,  4.],\n",
       "       [ 3.,  9.],\n",
       "       [ 4., 16.]])\n",
       "\u001b[0;31mFile:\u001b[0m      ~/miniforge3/lib/python3.10/site-packages/numpy/lib/npyio.py\n",
       "\u001b[0;31mType:\u001b[0m      function"
      ]
     },
     "metadata": {},
     "output_type": "display_data"
    }
   ],
   "source": [
    "numpy.loadtxt?"
   ]
  },
  {
   "cell_type": "code",
   "execution_count": 54,
   "id": "bd190ce9-b302-4a14-968d-75fda94e286f",
   "metadata": {
    "collapsed": true,
    "jupyter": {
     "outputs_hidden": true
    }
   },
   "outputs": [
    {
     "data": {
      "text/plain": [
       "array([[0., 0., 1., ..., 3., 0., 0.],\n",
       "       [0., 1., 2., ..., 1., 0., 1.],\n",
       "       [0., 1., 1., ..., 2., 1., 1.],\n",
       "       ...,\n",
       "       [0., 1., 1., ..., 1., 1., 1.],\n",
       "       [0., 0., 0., ..., 0., 2., 0.],\n",
       "       [0., 0., 1., ..., 1., 1., 0.]])"
      ]
     },
     "execution_count": 54,
     "metadata": {},
     "output_type": "execute_result"
    }
   ],
   "source": [
    "numpy.loadtxt(fname='python-novice-inflammation-data/data/inflammation-01.csv', \n",
    "              delimiter=',', comments='!')"
   ]
  },
  {
   "cell_type": "code",
   "execution_count": 56,
   "id": "df9fd508-924e-43b4-85f5-9c6fd93dd2ec",
   "metadata": {},
   "outputs": [
    {
     "data": {
      "text/plain": [
       "4.613833197118566"
      ]
     },
     "execution_count": 56,
     "metadata": {},
     "output_type": "execute_result"
    }
   ],
   "source": [
    "#Standard deviation\n",
    "numpy.std(data)"
   ]
  },
  {
   "cell_type": "code",
   "execution_count": 57,
   "id": "9166f90b-9498-494d-956b-10317ce5ffec",
   "metadata": {},
   "outputs": [
    {
     "data": {
      "text/plain": [
       "18.0"
      ]
     },
     "execution_count": 57,
     "metadata": {},
     "output_type": "execute_result"
    }
   ],
   "source": [
    "# Maximial value for first patient\n",
    "numpy.amax(data[0])"
   ]
  },
  {
   "cell_type": "code",
   "execution_count": 58,
   "id": "67ecf117-a4ad-4d72-8d98-a6cdf3e82050",
   "metadata": {},
   "outputs": [
    {
     "data": {
      "text/plain": [
       "0.0"
      ]
     },
     "execution_count": 58,
     "metadata": {},
     "output_type": "execute_result"
    }
   ],
   "source": [
    "# Maximial value on first day of all patients\n",
    "numpy.amax(data[:, 0])"
   ]
  },
  {
   "cell_type": "code",
   "execution_count": 59,
   "id": "49ac6112-7de0-4333-84be-cf883ef05e08",
   "metadata": {},
   "outputs": [
    {
     "data": {
      "text/plain": [
       "0.0"
      ]
     },
     "execution_count": 59,
     "metadata": {},
     "output_type": "execute_result"
    }
   ],
   "source": [
    "# Minimal value on first day of all patients\n",
    "numpy.amin(data[:, 0])"
   ]
  },
  {
   "cell_type": "code",
   "execution_count": 60,
   "id": "d3ddff63-b0cf-4769-8220-328be8a87d8a",
   "metadata": {},
   "outputs": [
    {
     "data": {
      "text/plain": [
       "0.0"
      ]
     },
     "execution_count": 60,
     "metadata": {},
     "output_type": "execute_result"
    }
   ],
   "source": [
    "# Minimal value on last day of all patients\n",
    "numpy.amin(data[:, -1])"
   ]
  },
  {
   "cell_type": "code",
   "execution_count": 61,
   "id": "67dddb06-94d6-4b68-86dc-e80dba4c000a",
   "metadata": {},
   "outputs": [
    {
     "data": {
      "text/plain": [
       "1.0"
      ]
     },
     "execution_count": 61,
     "metadata": {},
     "output_type": "execute_result"
    }
   ],
   "source": [
    "# Maximal value for first two days of all patients\n",
    "numpy.amax(data[:, :2])"
   ]
  },
  {
   "cell_type": "code",
   "execution_count": 63,
   "id": "2b21c00d-165a-4c25-b343-c9ca93afae1f",
   "metadata": {},
   "outputs": [
    {
     "data": {
      "text/plain": [
       "array([ 0.,  1.,  2.,  3.,  4.,  5.,  6.,  7.,  8.,  9., 10., 11., 12.,\n",
       "       13., 14., 15., 16., 17., 18., 19., 20., 19., 18., 17., 16., 15.,\n",
       "       14., 13., 12., 11., 10.,  9.,  8.,  7.,  6.,  5.,  4.,  3.,  2.,\n",
       "        1.])"
      ]
     },
     "execution_count": 63,
     "metadata": {},
     "output_type": "execute_result"
    }
   ],
   "source": [
    "# Maxmial value for separate days, for all patients\n",
    "# data[:, 0]\n",
    "# data[:, 1]\n",
    "numpy.amax(data, axis=0)"
   ]
  },
  {
   "cell_type": "code",
   "execution_count": 64,
   "id": "87324891-2d13-4760-9c4b-398b2812c506",
   "metadata": {},
   "outputs": [
    {
     "data": {
      "text/plain": [
       "array([0., 0., 0., 0., 1., 1., 1., 1., 2., 2., 2., 2., 3., 3., 3., 3., 4.,\n",
       "       5., 5., 5., 5., 4., 4., 4., 4., 3., 3., 3., 3., 2., 2., 2., 2., 1.,\n",
       "       1., 1., 1., 0., 0., 0.])"
      ]
     },
     "execution_count": 64,
     "metadata": {},
     "output_type": "execute_result"
    }
   ],
   "source": [
    "numpy.amin(data, axis=0)"
   ]
  },
  {
   "cell_type": "markdown",
   "id": "9133d99f-7e72-471d-a4a4-4583d5483bfc",
   "metadata": {},
   "source": [
    "# Plotting library"
   ]
  },
  {
   "cell_type": "code",
   "execution_count": 66,
   "id": "04ea60d8-36ff-43c2-a78b-9e9350e4064a",
   "metadata": {},
   "outputs": [
    {
     "ename": "ModuleNotFoundError",
     "evalue": "No module named 'matplotplib'",
     "output_type": "error",
     "traceback": [
      "\u001b[0;31m---------------------------------------------------------------------------\u001b[0m",
      "\u001b[0;31mModuleNotFoundError\u001b[0m                       Traceback (most recent call last)",
      "Cell \u001b[0;32mIn[66], line 1\u001b[0m\n\u001b[0;32m----> 1\u001b[0m \u001b[38;5;28;01mimport\u001b[39;00m \u001b[38;5;21;01mmatplotplib\u001b[39;00m\u001b[38;5;21;01m.\u001b[39;00m\u001b[38;5;21;01mpyplot\u001b[39;00m \u001b[38;5;28;01mas\u001b[39;00m \u001b[38;5;21;01mplt\u001b[39;00m\n",
      "\u001b[0;31mModuleNotFoundError\u001b[0m: No module named 'matplotplib'"
     ]
    }
   ],
   "source": [
    "import matplotplib.pyplot as plt"
   ]
  },
  {
   "cell_type": "code",
   "execution_count": 67,
   "id": "6d52bd2a-b168-4664-9b5d-90d48db0ce26",
   "metadata": {},
   "outputs": [],
   "source": [
    "import matplotlib.pyplot as plt"
   ]
  },
  {
   "cell_type": "code",
   "execution_count": 74,
   "id": "9f3a1a28-3778-40aa-ad17-f10a79b0b541",
   "metadata": {},
   "outputs": [],
   "source": [
    "data_max = numpy.amax(data, axis=0)\n",
    "data_min = numpy.amin(data, axis=0)"
   ]
  },
  {
   "cell_type": "code",
   "execution_count": 75,
   "id": "42d52554-eaf3-4432-b1c8-5924f53549cf",
   "metadata": {},
   "outputs": [
    {
     "data": {
      "text/plain": [
       "Text(0, 0.5, 'Maximal inflamation count')"
      ]
     },
     "execution_count": 75,
     "metadata": {},
     "output_type": "execute_result"
    },
    {
     "data": {
      "image/png": "[encoded data removed]",
      "text/plain": [
       "<Figure size 640x480 with 1 Axes>"
      ]
     },
     "metadata": {},
     "output_type": "display_data"
    }
   ],
   "source": [
    "# Plot maxima over days\n",
    "plt.plot(data_max)\n",
    "plt.xlabel('day')\n",
    "plt.ylabel('Maximal inflamation count')"
   ]
  },
  {
   "cell_type": "code",
   "execution_count": 76,
   "id": "d9377ea1-65fc-4773-a733-f332c365b3cc",
   "metadata": {},
   "outputs": [
    {
     "data": {
      "text/plain": [
       "Text(0, 0.5, 'Minimal inflamation count')"
      ]
     },
     "execution_count": 76,
     "metadata": {},
     "output_type": "execute_result"
    },
    {
     "data": {
      "image/png": "[encoded data removed]",
      "text/plain": [
       "<Figure size 640x480 with 1 Axes>"
      ]
     },
     "metadata": {},
     "output_type": "display_data"
    }
   ],
   "source": [
    "# Plot minimal over days\n",
    "plt.plot(data_min)\n",
    "plt.xlabel('day')\n",
    "plt.ylabel('Minimal inflamation count')"
   ]
  },
  {
   "cell_type": "code",
   "execution_count": 80,
   "id": "79f1fc60-9a32-42ad-a1ff-3dd8cb2c8082",
   "metadata": {},
   "outputs": [
    {
     "data": {
      "text/plain": [
       "<matplotlib.legend.Legend at 0x7546b238afb0>"
      ]
     },
     "execution_count": 80,
     "metadata": {},
     "output_type": "execute_result"
    },
    {
     "data": {
      "image/png": "[encoded data removed]",
      "text/plain": [
       "<Figure size 640x480 with 1 Axes>"
      ]
     },
     "metadata": {},
     "output_type": "display_data"
    }
   ],
   "source": [
    "plt.plot(data_max, label='Maximal inflamation count')\n",
    "plt.plot(data_min, label='Minimal inflamation count')\n",
    "plt.plot(numpy.mean(data, axis=0), label='Average inflamation count')\n",
    "plt.xlabel('day')\n",
    "plt.legend()"
   ]
  },
  {
   "cell_type": "code",
   "execution_count": 98,
   "id": "4d6e2f4e-dd36-40d0-94ae-0572fefd0308",
   "metadata": {},
   "outputs": [
    {
     "data": {
      "image/png": "[encoded data removed]",
      "text/plain": [
       "<Figure size 800x300 with 3 Axes>"
      ]
     },
     "metadata": {},
     "output_type": "display_data"
    }
   ],
   "source": [
    "# Multiple plots in one figure\n",
    "y_min = numpy.amin(data) - 0.5\n",
    "y_max = numpy.amax(data) + 0.5\n",
    "\n",
    "fig, (ax1, ax2, ax3) = plt.subplots(1, 3, figsize=(8, 3))\n",
    "ax1.plot(data_min)\n",
    "ax1.set_xlabel('Day')\n",
    "ax1.set_ylabel('Minimal inflammation count')\n",
    "ax1.set_ylim(y_min, y_max)\n",
    "\n",
    "ax2.plot(numpy.mean(data, axis=0))\n",
    "ax2.set_xlabel('Day')\n",
    "ax2.set_ylabel('Average inflammation count')\n",
    "ax2.set_ylim(y_min, y_max)\n",
    "\n",
    "# Plot maximal inflammation count\n",
    "#ax3.plot(data_max)\n",
    "ax3.plot(numpy.amax(data, axis=0))\n",
    "ax3.set_xlabel('Day')\n",
    "ax3.set_ylabel('Maximal inflamation count')\n",
    "ax3.set_ylim(y_min, y_max)\n",
    "\n",
    "fig.tight_layout()"
   ]
  },
  {
   "cell_type": "code",
   "execution_count": 93,
   "id": "d35caedd-dc02-4feb-9256-d10387f66099",
   "metadata": {},
   "outputs": [
    {
     "data": {
      "text/plain": [
       "<matplotlib.image.AxesImage at 0x7546afe97250>"
      ]
     },
     "execution_count": 93,
     "metadata": {},
     "output_type": "execute_result"
    },
    {
     "data": {
      "image/png": "[encoded data removed]",
      "text/plain": [
       "<Figure size 640x480 with 1 Axes>"
      ]
     },
     "metadata": {},
     "output_type": "display_data"
    }
   ],
   "source": [
    "plt.imshow(data)"
   ]
  },
  {
   "cell_type": "markdown",
   "id": "a63167f0-21f6-4278-865e-62525ad9c6ed",
   "metadata": {},
   "source": [
    "# Python lists"
   ]
  },
  {
   "cell_type": "code",
   "execution_count": 99,
   "id": "9083f86f-0e85-400c-b4e5-202ffc91fed8",
   "metadata": {},
   "outputs": [],
   "source": [
    "some_list = ['foo', 'bar', 'baz']"
   ]
  },
  {
   "cell_type": "code",
   "execution_count": 101,
   "id": "b9714317-334e-4257-b682-f73b080e6868",
   "metadata": {},
   "outputs": [
    {
     "name": "stdout",
     "output_type": "stream",
     "text": [
      "['foo', 'bar', 'baz']\n"
     ]
    }
   ],
   "source": [
    "print(some_list)"
   ]
  },
  {
   "cell_type": "code",
   "execution_count": 102,
   "id": "d6c61c6f-4c69-447a-bfbc-60ee45649c65",
   "metadata": {},
   "outputs": [
    {
     "name": "stdout",
     "output_type": "stream",
     "text": [
      "['bar', 'baz']\n"
     ]
    }
   ],
   "source": [
    "print(some_list[1:])"
   ]
  },
  {
   "cell_type": "code",
   "execution_count": 103,
   "id": "1424c81d-d08b-45cc-8922-79106f4a355a",
   "metadata": {},
   "outputs": [],
   "source": [
    "# Append data\n",
    "some_list.append(42)"
   ]
  },
  {
   "cell_type": "code",
   "execution_count": 104,
   "id": "f013760e-8fb5-45b2-ad75-8cc944b3f6e7",
   "metadata": {},
   "outputs": [
    {
     "name": "stdout",
     "output_type": "stream",
     "text": [
      "['foo', 'bar', 'baz', 42]\n"
     ]
    }
   ],
   "source": [
    "print(some_list)"
   ]
  },
  {
   "cell_type": "code",
   "execution_count": 105,
   "id": "306b80a0-0de8-4922-a6a6-963f8b390169",
   "metadata": {},
   "outputs": [],
   "source": [
    "some_list2 = some_list"
   ]
  },
  {
   "cell_type": "code",
   "execution_count": 106,
   "id": "f69d0709-271d-4d06-9c48-f8a546c2b4d0",
   "metadata": {},
   "outputs": [
    {
     "data": {
      "text/plain": [
       "['foo', 'bar', 'baz', 42]"
      ]
     },
     "execution_count": 106,
     "metadata": {},
     "output_type": "execute_result"
    }
   ],
   "source": [
    "some_list2"
   ]
  },
  {
   "cell_type": "code",
   "execution_count": 107,
   "id": "ec5a8872-f6da-413b-a3a2-f5b18b64a92c",
   "metadata": {},
   "outputs": [],
   "source": [
    "# This also modified some_list\n",
    "some_list2.append(2)"
   ]
  },
  {
   "cell_type": "code",
   "execution_count": 108,
   "id": "b6efbc57-aadc-4be6-9567-07553d85b058",
   "metadata": {},
   "outputs": [
    {
     "data": {
      "text/plain": [
       "['foo', 'bar', 'baz', 42, 2]"
      ]
     },
     "execution_count": 108,
     "metadata": {},
     "output_type": "execute_result"
    }
   ],
   "source": [
    "some_list2"
   ]
  },
  {
   "cell_type": "code",
   "execution_count": 109,
   "id": "ccebea2e-6f6d-41d8-9520-8935a448a1be",
   "metadata": {},
   "outputs": [
    {
     "data": {
      "text/plain": [
       "['foo', 'bar', 'baz', 42, 2]"
      ]
     },
     "execution_count": 109,
     "metadata": {},
     "output_type": "execute_result"
    }
   ],
   "source": [
    "some_list"
   ]
  },
  {
   "cell_type": "code",
   "execution_count": 110,
   "id": "53d24703-9ddd-4b7a-9d50-dcea1f349002",
   "metadata": {},
   "outputs": [],
   "source": [
    "import copy"
   ]
  },
  {
   "cell_type": "code",
   "execution_count": 111,
   "id": "1037e50f-3ee2-4095-a925-4f56ea3ef426",
   "metadata": {},
   "outputs": [],
   "source": [
    "# This creates an independent copy\n",
    "some_list3 = copy.deepcopy(some_list)"
   ]
  },
  {
   "cell_type": "code",
   "execution_count": 112,
   "id": "3cec547d-466d-48a0-b92c-ad34de1d6bd5",
   "metadata": {},
   "outputs": [
    {
     "data": {
      "text/plain": [
       "['foo', 'bar', 'baz', 42, 2]"
      ]
     },
     "execution_count": 112,
     "metadata": {},
     "output_type": "execute_result"
    }
   ],
   "source": [
    "some_list3"
   ]
  },
  {
   "cell_type": "code",
   "execution_count": 114,
   "id": "8c0df2ba-b60e-4b97-bf26-89ff18e6bc7a",
   "metadata": {},
   "outputs": [
    {
     "data": {
      "text/plain": [
       "'foo'"
      ]
     },
     "execution_count": 114,
     "metadata": {},
     "output_type": "execute_result"
    }
   ],
   "source": [
    "some_list3.pop(0)"
   ]
  },
  {
   "cell_type": "code",
   "execution_count": 115,
   "id": "dbaf21d8-30b2-44c9-b449-ba4dc5a63da7",
   "metadata": {},
   "outputs": [
    {
     "data": {
      "text/plain": [
       "['bar', 'baz', 42, 2]"
      ]
     },
     "execution_count": 115,
     "metadata": {},
     "output_type": "execute_result"
    }
   ],
   "source": [
    "some_list3"
   ]
  },
  {
   "cell_type": "code",
   "execution_count": 116,
   "id": "a2cbe905-67bb-4c9b-bbe5-4a8e72aba3ae",
   "metadata": {},
   "outputs": [
    {
     "data": {
      "text/plain": [
       "['foo', 'bar', 'baz', 42, 2]"
      ]
     },
     "execution_count": 116,
     "metadata": {},
     "output_type": "execute_result"
    }
   ],
   "source": [
    "some_list2"
   ]
  },
  {
   "cell_type": "code",
   "execution_count": 117,
   "id": "8531001a-dd05-4530-b720-3883f4f3d80d",
   "metadata": {},
   "outputs": [
    {
     "data": {
      "text/plain": [
       "['foo', 'bar', 'baz', 42, 2]"
      ]
     },
     "execution_count": 117,
     "metadata": {},
     "output_type": "execute_result"
    }
   ],
   "source": [
    "some_list"
   ]
  },
  {
   "cell_type": "markdown",
   "id": "e1eb9863-ca58-4f58-933e-b8c4f6e56fce",
   "metadata": {},
   "source": [
    "# Mutable vs non-mutable variables"
   ]
  },
  {
   "cell_type": "code",
   "execution_count": 118,
   "id": "b23c14f1-2e55-4371-ac11-3b9ad87f1c4f",
   "metadata": {},
   "outputs": [
    {
     "data": {
      "text/plain": [
       "['foo', 'bar', 'baz', 42, 2]"
      ]
     },
     "execution_count": 118,
     "metadata": {},
     "output_type": "execute_result"
    }
   ],
   "source": [
    "some_list"
   ]
  },
  {
   "cell_type": "code",
   "execution_count": 119,
   "id": "facaaa6a-be4f-492b-b5fd-3cb18749a4a0",
   "metadata": {},
   "outputs": [],
   "source": [
    "# Lists are mutable\n",
    "some_list[1] = 'other'"
   ]
  },
  {
   "cell_type": "code",
   "execution_count": 120,
   "id": "8a5beb98-2b3f-480f-b901-ef371a1e766a",
   "metadata": {},
   "outputs": [
    {
     "data": {
      "text/plain": [
       "['foo', 'other', 'baz', 42, 2]"
      ]
     },
     "execution_count": 120,
     "metadata": {},
     "output_type": "execute_result"
    }
   ],
   "source": [
    "some_list"
   ]
  },
  {
   "cell_type": "code",
   "execution_count": 122,
   "id": "fce68c0d-4fd4-4cdf-93d8-80c31bb7d573",
   "metadata": {},
   "outputs": [],
   "source": [
    "some_string = 'henlo'"
   ]
  },
  {
   "cell_type": "code",
   "execution_count": 125,
   "id": "3b745384-5145-442b-947b-8693c2fc38be",
   "metadata": {},
   "outputs": [
    {
     "data": {
      "text/plain": [
       "'n'"
      ]
     },
     "execution_count": 125,
     "metadata": {},
     "output_type": "execute_result"
    }
   ],
   "source": [
    "some_string[2]"
   ]
  },
  {
   "cell_type": "code",
   "execution_count": 129,
   "id": "804fc5fb-c4d5-4737-9d95-8b6ef8e1bf97",
   "metadata": {},
   "outputs": [
    {
     "ename": "TypeError",
     "evalue": "'str' object does not support item assignment",
     "output_type": "error",
     "traceback": [
      "\u001b[0;31m---------------------------------------------------------------------------\u001b[0m",
      "\u001b[0;31mTypeError\u001b[0m                                 Traceback (most recent call last)",
      "Cell \u001b[0;32mIn[129], line 2\u001b[0m\n\u001b[1;32m      1\u001b[0m \u001b[38;5;66;03m# Strings are not mutable\u001b[39;00m\n\u001b[0;32m----> 2\u001b[0m \u001b[43msome_string\u001b[49m\u001b[43m[\u001b[49m\u001b[38;5;241;43m2\u001b[39;49m\u001b[43m]\u001b[49m \u001b[38;5;241m=\u001b[39m \u001b[38;5;124m'\u001b[39m\u001b[38;5;124ml\u001b[39m\u001b[38;5;124m'\u001b[39m\n",
      "\u001b[0;31mTypeError\u001b[0m: 'str' object does not support item assignment"
     ]
    }
   ],
   "source": [
    "# Strings are not mutable\n",
    "some_string[2] = 'l'"
   ]
  },
  {
   "cell_type": "code",
   "execution_count": 127,
   "id": "f730407f-185c-40d4-b694-8b75f553117d",
   "metadata": {},
   "outputs": [],
   "source": [
    "some_string = 'hello'"
   ]
  },
  {
   "cell_type": "code",
   "execution_count": 128,
   "id": "11f9a3fa-4d5f-43e9-b07a-c405bdc3351a",
   "metadata": {},
   "outputs": [],
   "source": [
    "# Strings are not mutable"
   ]
  },
  {
   "cell_type": "code",
   "execution_count": 130,
   "id": "9397f53c-58f5-40a5-9b10-bcb511eab53c",
   "metadata": {},
   "outputs": [],
   "source": [
    "# Tuples: Non-mutable lists\n",
    "some_tuple = ('a' , 1, 1.5)"
   ]
  },
  {
   "cell_type": "code",
   "execution_count": 131,
   "id": "2d55bd9e-ed2a-49f5-8617-7d2b8ab1100a",
   "metadata": {},
   "outputs": [
    {
     "data": {
      "text/plain": [
       "('a', 1, 1.5)"
      ]
     },
     "execution_count": 131,
     "metadata": {},
     "output_type": "execute_result"
    }
   ],
   "source": [
    "some_tuple"
   ]
  },
  {
   "cell_type": "code",
   "execution_count": 132,
   "id": "e3335e6b-27c0-45a2-a95d-7811cae95bc3",
   "metadata": {},
   "outputs": [
    {
     "data": {
      "text/plain": [
       "1.5"
      ]
     },
     "execution_count": 132,
     "metadata": {},
     "output_type": "execute_result"
    }
   ],
   "source": [
    "some_tuple[2]"
   ]
  },
  {
   "cell_type": "code",
   "execution_count": 133,
   "id": "46e930bb-a6ba-4eba-b83e-f42442f986da",
   "metadata": {},
   "outputs": [
    {
     "ename": "TypeError",
     "evalue": "'tuple' object does not support item assignment",
     "output_type": "error",
     "traceback": [
      "\u001b[0;31m---------------------------------------------------------------------------\u001b[0m",
      "\u001b[0;31mTypeError\u001b[0m                                 Traceback (most recent call last)",
      "Cell \u001b[0;32mIn[133], line 2\u001b[0m\n\u001b[1;32m      1\u001b[0m \u001b[38;5;66;03m# Not mutable\u001b[39;00m\n\u001b[0;32m----> 2\u001b[0m \u001b[43msome_tuple\u001b[49m\u001b[43m[\u001b[49m\u001b[38;5;241;43m1\u001b[39;49m\u001b[43m]\u001b[49m \u001b[38;5;241m=\u001b[39m \u001b[38;5;241m2\u001b[39m\n",
      "\u001b[0;31mTypeError\u001b[0m: 'tuple' object does not support item assignment"
     ]
    }
   ],
   "source": [
    "# Not mutable\n",
    "some_tuple[1] = 2"
   ]
  },
  {
   "cell_type": "markdown",
   "id": "76f11b25-79a8-4c6f-823c-a4a1fa35c13c",
   "metadata": {},
   "source": [
    "# For Loops"
   ]
  },
  {
   "cell_type": "code",
   "execution_count": 136,
   "id": "27727349-e12e-49d6-9da0-2422d325bad9",
   "metadata": {},
   "outputs": [
    {
     "name": "stdout",
     "output_type": "stream",
     "text": [
      "foo\n",
      "in loop\n",
      "other\n",
      "in loop\n",
      "baz\n",
      "in loop\n",
      "42\n",
      "in loop\n",
      "2\n",
      "in loop\n",
      "after loop\n"
     ]
    }
   ],
   "source": [
    "for value in some_list:\n",
    "    print(value)\n",
    "    print('in loop')\n",
    "print('after loop')"
   ]
  },
  {
   "cell_type": "markdown",
   "id": "b192c004-4613-48a7-8e66-5f53334c4bf2",
   "metadata": {},
   "source": [
    "# Using wildcards like we used this morning"
   ]
  },
  {
   "cell_type": "code",
   "execution_count": 137,
   "id": "067fd1e0-ece1-4168-9dc6-559db8f5b64e",
   "metadata": {},
   "outputs": [],
   "source": [
    "import glob"
   ]
  },
  {
   "cell_type": "code",
   "execution_count": 138,
   "id": "42481ec2-1a7a-44ff-b158-d7227524f6b2",
   "metadata": {
    "collapsed": true,
    "jupyter": {
     "outputs_hidden": true
    }
   },
   "outputs": [
    {
     "data": {
      "text/plain": [
       "['python-novice-inflammation-data/data/inflammation-01.csv',\n",
       " 'python-novice-inflammation-data/data/inflammation-02.csv',\n",
       " 'python-novice-inflammation-data/data/inflammation-03.csv',\n",
       " 'python-novice-inflammation-data/data/inflammation-04.csv',\n",
       " 'python-novice-inflammation-data/data/inflammation-05.csv',\n",
       " 'python-novice-inflammation-data/data/inflammation-06.csv',\n",
       " 'python-novice-inflammation-data/data/inflammation-07.csv',\n",
       " 'python-novice-inflammation-data/data/inflammation-08.csv',\n",
       " 'python-novice-inflammation-data/data/inflammation-09.csv',\n",
       " 'python-novice-inflammation-data/data/inflammation-10.csv',\n",
       " 'python-novice-inflammation-data/data/inflammation-11.csv',\n",
       " 'python-novice-inflammation-data/data/inflammation-12.csv',\n",
       " 'python-novice-inflammation-data/data/small-01.csv',\n",
       " 'python-novice-inflammation-data/data/small-02.csv',\n",
       " 'python-novice-inflammation-data/data/small-03.csv']"
      ]
     },
     "execution_count": 138,
     "metadata": {},
     "output_type": "execute_result"
    }
   ],
   "source": [
    "# Using wildcards like we used this morning\n",
    "glob.glob('python-novice-inflammation-data/data/*.csv')\n",
    "#glob.glob('Desktop/data/*.csv')"
   ]
  },
  {
   "cell_type": "code",
   "execution_count": 144,
   "id": "7065d52b-8371-4cab-9849-c07da2ce12cc",
   "metadata": {},
   "outputs": [],
   "source": [
    "# Only get the files starting with inflammation\n",
    "filenames = glob.glob('python-novice-inflammation-data/data/inflammation*.csv')"
   ]
  },
  {
   "cell_type": "code",
   "execution_count": 145,
   "id": "af834365-960c-4754-bc0e-a2d5e1f8b637",
   "metadata": {},
   "outputs": [
    {
     "name": "stdout",
     "output_type": "stream",
     "text": [
      "analyze python-novice-inflammation-data/data/inflammation-01.csv\n",
      "analyze python-novice-inflammation-data/data/inflammation-02.csv\n",
      "analyze python-novice-inflammation-data/data/inflammation-03.csv\n",
      "analyze python-novice-inflammation-data/data/inflammation-04.csv\n",
      "analyze python-novice-inflammation-data/data/inflammation-05.csv\n",
      "analyze python-novice-inflammation-data/data/inflammation-06.csv\n",
      "analyze python-novice-inflammation-data/data/inflammation-07.csv\n",
      "analyze python-novice-inflammation-data/data/inflammation-08.csv\n",
      "analyze python-novice-inflammation-data/data/inflammation-09.csv\n",
      "analyze python-novice-inflammation-data/data/inflammation-10.csv\n",
      "analyze python-novice-inflammation-data/data/inflammation-11.csv\n",
      "analyze python-novice-inflammation-data/data/inflammation-12.csv\n"
     ]
    }
   ],
   "source": [
    "for file in filenames:\n",
    "    print('analyze', file)"
   ]
  },
  {
   "cell_type": "code",
   "execution_count": 147,
   "id": "96568ff9-6d2b-44b7-8470-43bdd411a6a1",
   "metadata": {
    "collapsed": true,
    "jupyter": {
     "outputs_hidden": true
    }
   },
   "outputs": [
    {
     "data": {
      "text/plain": [
       "['python-novice-inflammation-data/data/inflammation-01.csv',\n",
       " 'python-novice-inflammation-data/data/inflammation-02.csv',\n",
       " 'python-novice-inflammation-data/data/inflammation-03.csv',\n",
       " 'python-novice-inflammation-data/data/inflammation-04.csv',\n",
       " 'python-novice-inflammation-data/data/inflammation-05.csv',\n",
       " 'python-novice-inflammation-data/data/inflammation-06.csv',\n",
       " 'python-novice-inflammation-data/data/inflammation-07.csv',\n",
       " 'python-novice-inflammation-data/data/inflammation-08.csv',\n",
       " 'python-novice-inflammation-data/data/inflammation-09.csv',\n",
       " 'python-novice-inflammation-data/data/inflammation-10.csv',\n",
       " 'python-novice-inflammation-data/data/inflammation-11.csv',\n",
       " 'python-novice-inflammation-data/data/inflammation-12.csv',\n",
       " 'python-novice-inflammation-data/data_second/inflammation-01.csv',\n",
       " 'python-novice-inflammation-data/data_second/inflammation-02.csv',\n",
       " 'python-novice-inflammation-data/data_second/inflammation-03.csv',\n",
       " 'python-novice-inflammation-data/data_second/inflammation-04.csv',\n",
       " 'python-novice-inflammation-data/data_second/inflammation-05.csv',\n",
       " 'python-novice-inflammation-data/data_second/inflammation-06.csv',\n",
       " 'python-novice-inflammation-data/data_second/inflammation-07.csv',\n",
       " 'python-novice-inflammation-data/data_second/inflammation-08.csv',\n",
       " 'python-novice-inflammation-data/data_second/inflammation-09.csv',\n",
       " 'python-novice-inflammation-data/data_second/inflammation-10.csv',\n",
       " 'python-novice-inflammation-data/data_second/inflammation-11.csv',\n",
       " 'python-novice-inflammation-data/data_second/inflammation-12.csv']"
      ]
     },
     "execution_count": 147,
     "metadata": {},
     "output_type": "execute_result"
    }
   ],
   "source": [
    "glob.glob('python-novice-inflammation-data/*/inflammation*.csv')"
   ]
  },
  {
   "cell_type": "code",
   "execution_count": 153,
   "id": "019362fc-3776-42c9-a39b-1bbd1b4eabd8",
   "metadata": {},
   "outputs": [],
   "source": [
    "import os"
   ]
  },
  {
   "cell_type": "code",
   "execution_count": 152,
   "id": "0ab0c0d6-0fd1-4bd8-b95e-9e6392338a9e",
   "metadata": {
    "collapsed": true,
    "jupyter": {
     "outputs_hidden": true
    }
   },
   "outputs": [
    {
     "data": {
      "text/plain": [
       "[('.',\n",
       "  ['.ipynb_checkpoints',\n",
       "   'python-novice-inflammation-data',\n",
       "   'python-novice-inflammation-code'],\n",
       "  ['Untitled.ipynb',\n",
       "   'python-novice-inflammation-code.zip',\n",
       "   'python-novice-inflammation-data.zip',\n",
       "   'swc-2024-04-08.ipynb']),\n",
       " ('./.ipynb_checkpoints',\n",
       "  [],\n",
       "  ['Untitled-checkpoint.ipynb', 'swc-2024-04-08-checkpoint.ipynb']),\n",
       " ('./python-novice-inflammation-data', ['data', 'data_second'], []),\n",
       " ('./python-novice-inflammation-data/data',\n",
       "  ['.ipynb_checkpoints'],\n",
       "  ['inflammation-01.csv',\n",
       "   'inflammation-02.csv',\n",
       "   'inflammation-03.csv',\n",
       "   'inflammation-04.csv',\n",
       "   'inflammation-05.csv',\n",
       "   'inflammation-06.csv',\n",
       "   'inflammation-07.csv',\n",
       "   'inflammation-08.csv',\n",
       "   'inflammation-09.csv',\n",
       "   'inflammation-10.csv',\n",
       "   'inflammation-11.csv',\n",
       "   'inflammation-12.csv',\n",
       "   'small-01.csv',\n",
       "   'small-02.csv',\n",
       "   'small-03.csv']),\n",
       " ('./python-novice-inflammation-data/data/.ipynb_checkpoints',\n",
       "  [],\n",
       "  ['inflammation-01-checkpoint.csv']),\n",
       " ('./python-novice-inflammation-data/data_second',\n",
       "  ['.ipynb_checkpoints'],\n",
       "  ['inflammation-01.csv',\n",
       "   'inflammation-02.csv',\n",
       "   'inflammation-03.csv',\n",
       "   'inflammation-04.csv',\n",
       "   'inflammation-05.csv',\n",
       "   'inflammation-06.csv',\n",
       "   'inflammation-07.csv',\n",
       "   'inflammation-08.csv',\n",
       "   'inflammation-09.csv',\n",
       "   'inflammation-10.csv',\n",
       "   'inflammation-11.csv',\n",
       "   'inflammation-12.csv',\n",
       "   'small-01.csv',\n",
       "   'small-02.csv',\n",
       "   'small-03.csv']),\n",
       " ('./python-novice-inflammation-data/data_second/.ipynb_checkpoints',\n",
       "  [],\n",
       "  ['inflammation-01-checkpoint.csv']),\n",
       " ('./python-novice-inflammation-code', ['code'], []),\n",
       " ('./python-novice-inflammation-code/code',\n",
       "  [],\n",
       "  ['argv_list.py',\n",
       "   'arith.py',\n",
       "   'check.py',\n",
       "   'count_stdin.py',\n",
       "   'gen_inflammation.py',\n",
       "   'line_count.py',\n",
       "   'my_ls.py',\n",
       "   'readings_01.py',\n",
       "   'readings_02.py',\n",
       "   'readings_03.py',\n",
       "   'readings_04.py',\n",
       "   'readings_05.py',\n",
       "   'readings_06.py',\n",
       "   'readings_07.py',\n",
       "   'readings_08.py',\n",
       "   'readings_09.py',\n",
       "   'rectangle.py',\n",
       "   'sys_version.py'])]"
      ]
     },
     "execution_count": 152,
     "metadata": {},
     "output_type": "execute_result"
    }
   ],
   "source": [
    "list(os.walk('.'))"
   ]
  },
  {
   "cell_type": "code",
   "execution_count": null,
   "id": "e4740309-47d5-424c-bae3-53f0d1655d1d",
   "metadata": {},
   "outputs": [],
   "source": []
  }
 ],
 "metadata": {
  "kernelspec": {
   "display_name": "Python 3 (ipykernel)",
   "language": "python",
   "name": "python3"
  },
  "language_info": {
   "codemirror_mode": {
    "name": "ipython",
    "version": 3
   },
   "file_extension": ".py",
   "mimetype": "text/x-python",
   "name": "python",
   "nbconvert_exporter": "python",
   "pygments_lexer": "ipython3",
   "version": "3.10.14"
  }
 },
 "nbformat": 4,
 "nbformat_minor": 5
}
